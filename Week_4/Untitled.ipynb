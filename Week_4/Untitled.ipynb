{
 "cells": [
  {
   "cell_type": "code",
   "execution_count": 5,
   "id": "d58e943a-f78b-4132-87d7-f9ab5e4e7a98",
   "metadata": {},
   "outputs": [
    {
     "name": "stdin",
     "output_type": "stream",
     "text": [
      "Insert the value of r: 6\n"
     ]
    },
    {
     "name": "stdout",
     "output_type": "stream",
     "text": [
      "The radius of the circle is 6.0\n",
      "The Area Of The Circle is 37.68 \n"
     ]
    }
   ],
   "source": [
    "def calculate_area(r):\n",
    "    p = 3.14 \n",
    "    a = 2*p*r\n",
    "    print(f\"The radius of the circle is {r}\")\n",
    "    print(f\"The Area Of The Circle is {a} \")\n",
    "    return \n",
    "r = float(input(\"Insert the value of r:\"))\n",
    "calculate_area(r)"
   ]
  },
  {
   "cell_type": "code",
   "execution_count": null,
   "id": "b8488fc9-9e4e-4864-a455-f1889c1cc361",
   "metadata": {},
   "outputs": [],
   "source": [
    "def is_palindrome():"
   ]
  },
  {
   "cell_type": "code",
   "execution_count": null,
   "id": "6f6636f0-dca0-431f-8de3-35ed26333c18",
   "metadata": {},
   "outputs": [],
   "source": []
  },
  {
   "cell_type": "code",
   "execution_count": null,
   "id": "79a9a56e-1170-434c-a2f9-68eb6ed50006",
   "metadata": {},
   "outputs": [],
   "source": []
  }
 ],
 "metadata": {
  "kernelspec": {
   "display_name": "Python 3 (ipykernel)",
   "language": "python",
   "name": "python3"
  },
  "language_info": {
   "codemirror_mode": {
    "name": "ipython",
    "version": 3
   },
   "file_extension": ".py",
   "mimetype": "text/x-python",
   "name": "python",
   "nbconvert_exporter": "python",
   "pygments_lexer": "ipython3",
   "version": "3.13.2"
  }
 },
 "nbformat": 4,
 "nbformat_minor": 5
}
