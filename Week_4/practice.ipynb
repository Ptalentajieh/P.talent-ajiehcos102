{
 "cells": [
  {
   "cell_type": "code",
   "execution_count": 1,
   "id": "2b534b9b",
   "metadata": {},
   "outputs": [
    {
     "name": "stdout",
     "output_type": "stream",
     "text": [
      "1\n",
      "2\n"
     ]
    }
   ],
   "source": [
    "def printme(str):\n",
    "    print(str)\n",
    "    return\n",
    "printme(\"1\")\n",
    "printme(\"2\")"
   ]
  },
  {
   "cell_type": "code",
   "execution_count": 2,
   "id": "b4692ce4",
   "metadata": {},
   "outputs": [
    {
     "name": "stdout",
     "output_type": "stream",
     "text": [
      "Values inside the function:  [10, 20, 30, [1, 2, 3, 4]]\n",
      "Values outside the function: [10, 20, 30, [1, 2, 3, 4]]\n"
     ]
    }
   ],
   "source": [
    "def changeme(mylist):\n",
    "    #this changes a passed list\n",
    "    mylist.append([1,2,3,4])\n",
    "    print(\"Values inside the function: \", mylist)\n",
    "    return\n",
    "mylist = [10, 20, 30]\n",
    "changeme(mylist)\n",
    "print(\"Values outside the function:\", mylist)"
   ]
  },
  {
   "cell_type": "code",
   "execution_count": 3,
   "id": "836dbd6a",
   "metadata": {},
   "outputs": [
    {
     "name": "stdout",
     "output_type": "stream",
     "text": [
      "Values inside the function:  [1, 2, 3, 4]\n",
      "Values outside the function:  [10, 20, 30]\n"
     ]
    }
   ],
   "source": [
    "def changeme(mylist):\n",
    "    #this changes a passed list\n",
    "    mylist = [1,2,3,4]\n",
    "    print(\"Values inside the function: \", mylist)\n",
    "    return\n",
    "mylist = [10,20,30]\n",
    "changeme(mylist)\n",
    "print(\"Values outside the function: \", mylist)"
   ]
  },
  {
   "cell_type": "code",
   "execution_count": 4,
   "id": "b13e1b33",
   "metadata": {},
   "outputs": [
    {
     "name": "stdout",
     "output_type": "stream",
     "text": [
      "mystring\n"
     ]
    }
   ],
   "source": [
    "def printme(str):\n",
    "    #this prints a passed string\n",
    "    print(str)\n",
    "    return\n",
    "printme(str = 'mystring')"
   ]
  },
  {
   "cell_type": "code",
   "execution_count": 5,
   "id": "453f6470",
   "metadata": {},
   "outputs": [
    {
     "name": "stdout",
     "output_type": "stream",
     "text": [
      "name:  James\n",
      "age:  50\n"
     ]
    }
   ],
   "source": [
    "def printinfo(name, age):\n",
    "    #test function\n",
    "    print(\"name: \", name)\n",
    "    print(\"age: \", age)\n",
    "    return\n",
    "printinfo(age=50, name='James')"
   ]
  },
  {
   "cell_type": "code",
   "execution_count": 6,
   "id": "01781a98",
   "metadata": {},
   "outputs": [
    {
     "name": "stdout",
     "output_type": "stream",
     "text": [
      "name:  Tolu\n",
      "age:  50\n",
      "name:  David\n",
      "age:  35\n"
     ]
    }
   ],
   "source": [
    "def printinfo(name, age=35):\n",
    "    #test function\n",
    "    print('name: ', name)\n",
    "    print('age: ', age)\n",
    "    return\n",
    "printinfo(age=50, name='Tolu')\n",
    "printinfo(name='David')"
   ]
  },
  {
   "cell_type": "code",
   "execution_count": 7,
   "id": "8cbbaedd",
   "metadata": {},
   "outputs": [
    {
     "name": "stdout",
     "output_type": "stream",
     "text": [
      "output is: \n",
      "10\n",
      "output is: \n",
      "70\n",
      "60\n"
     ]
    }
   ],
   "source": [
    "def printinfo(arg1, *vartuple):\n",
    "    #this is test\n",
    "    print(\"output is: \")\n",
    "    print(arg1)\n",
    "    for var in vartuple:\n",
    "        print(var)\n",
    "        return\n",
    "printinfo(10)\n",
    "printinfo(70, 60, 50)"
   ]
  },
  {
   "cell_type": "code",
   "execution_count": 8,
   "id": "a1b03b84",
   "metadata": {},
   "outputs": [
    {
     "name": "stdout",
     "output_type": "stream",
     "text": [
      "Inside the function local total:  30\n",
      "outside the function global total:  50\n"
     ]
    }
   ],
   "source": [
    "total = 50; #this is a global variable\n",
    "def sum(arg1, arg2):\n",
    "    #add both the parameters\n",
    "    total = arg1 + arg2\n",
    "    print(\"Inside the function local total: \", total)\n",
    "    return\n",
    "#now you can call sum function\n",
    "sum(10, 20)\n",
    "print(\"outside the function global total: \", total)"
   ]
  },
  {
   "cell_type": "code",
   "execution_count": 9,
   "id": "ce840ff9",
   "metadata": {},
   "outputs": [
    {
     "name": "stdout",
     "output_type": "stream",
     "text": [
      "Timmy edward Tolu Tina\n",
      "mary\n"
     ]
    }
   ],
   "source": [
    "def swap(x, y):\n",
    "    global a\n",
    "    a = 'Timmy'\n",
    "    x, y = y, x\n",
    "    b = 'chris'\n",
    "    b = 'edward'\n",
    "    c = 'Dave'\n",
    "    print(a, b, x, y)\n",
    "    a = 'mary'\n",
    "swap(\"Tina\", \"Tolu\")\n",
    "print(a)"
   ]
  }
 ],
 "metadata": {
  "kernelspec": {
   "display_name": "Python 3",
   "language": "python",
   "name": "python3"
  },
  "language_info": {
   "codemirror_mode": {
    "name": "ipython",
    "version": 3
   },
   "file_extension": ".py",
   "mimetype": "text/x-python",
   "name": "python",
   "nbconvert_exporter": "python",
   "pygments_lexer": "ipython3",
   "version": "3.13.3"
  }
 },
 "nbformat": 4,
 "nbformat_minor": 5
}
