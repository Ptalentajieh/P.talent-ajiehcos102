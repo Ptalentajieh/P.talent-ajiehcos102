{
 "cells": [
  {
   "cell_type": "code",
   "execution_count": 2,
   "id": "f8c6a1b9-5717-44aa-bd17-f5b717f8e58a",
   "metadata": {},
   "outputs": [
    {
     "name": "stdin",
     "output_type": "stream",
     "text": [
      "Enter your state of origin: jnknknk\n"
     ]
    },
    {
     "name": "stdout",
     "output_type": "stream",
     "text": [
      "Your state of origin is :  jnknknk\n",
      "The first character is:  j\n",
      "The character starting from 3rd to 5th are:  knk\n",
      "The string starting from 3rd character is :  knknk\n",
      "State of origin two times jnknknkjnknknk\n"
     ]
    }
   ],
   "source": [
    "str = input(\"Enter your state of origin:\")\n",
    "\n",
    "print (\"Your state of origin is : \", str)\n",
    "print (\"The first character is: \", str[0])\n",
    "print (\"The character starting from 3rd to 5th are: \", str[2:5])\n",
    "print (\"The string starting from 3rd character is : \", str[2:])\n",
    "print (\"State of origin two times\", str * 2)\n"
   ]
  },
  {
   "cell_type": "code",
   "execution_count": 4,
   "id": "71dde3ea-bcc4-4b14-b491-38c51ec889c3",
   "metadata": {},
   "outputs": [
    {
     "name": "stdin",
     "output_type": "stream",
     "text": [
      "Enter mass in kilograms:  10\n"
     ]
    },
    {
     "name": "stdout",
     "output_type": "stream",
     "text": [
      "The energy equivalent to 10.0 kg of mass is 8.987551787368177e+17 joules\n"
     ]
    }
   ],
   "source": [
    "m= float(input(\"Enter mass in kilograms: \"))\n",
    "\n",
    "c = 299792458\n",
    "energy = m * c ** 2\n",
    "\n",
    "print (f\"The energy equivalent to {m} kg of mass is {energy} joules\")\n"
   ]
  },
  {
   "cell_type": "code",
   "execution_count": 5,
   "id": "5e5e92aa-42c8-4426-9c5b-d02e72c45a3d",
   "metadata": {},
   "outputs": [
    {
     "name": "stdout",
     "output_type": "stream",
     "text": [
      "['Anaconda', 786, 2.23, 'jupyter', 70.2]\n",
      "Anaconda\n",
      "[786, 2.23]\n",
      "[2.23, 'jupyter', 70.2]\n",
      "[321, 'python', 321, 'python']\n",
      "['Anaconda', 786, 2.23, 'jupyter', 70.2, 321, 'python']\n"
     ]
    }
   ],
   "source": [
    "list = ['Anaconda', 786 , 2.23, 'jupyter', 70.2 ]\n",
    "shortlist = [321, 'python']\n",
    "\n",
    "print(list)\n",
    "print(list[0])\n",
    "print(list[1:3])\n",
    "print(list[2:])\n",
    "print (shortlist * 2)\n",
    "print (list + shortlist)"
   ]
  },
  {
   "cell_type": "code",
   "execution_count": 6,
   "id": "20667725-d309-443f-8b1c-3b105f381913",
   "metadata": {},
   "outputs": [
    {
     "name": "stdout",
     "output_type": "stream",
     "text": [
      "('Ekiti', 750, 'oshogbo', 250, 'Akure', 500)\n",
      "500\n",
      "('oshogbo', 250)\n",
      "(250, 'Akure', 500)\n",
      "('Abeokuta', 300, 'ogbomoso', 'Abeokuta', 300, 'ogbomoso', 'Abeokuta', 300, 'ogbomoso')\n",
      "('Ekiti', 750, 'oshogbo', 250, 'Akure', 500, 'Abeokuta', 300, 'ogbomoso')\n"
     ]
    }
   ],
   "source": [
    "tuple = (\"Ekiti\",750,'oshogbo',250,\"Akure\",500)\n",
    "s_tuple = (\"Abeokuta\",300,\"ogbomoso\")\n",
    "\n",
    "print(tuple)\n",
    "\n",
    "print(tuple[-1])\n",
    "print(tuple[2:4])\n",
    "print(tuple[3:])\n",
    "print(s_tuple * 3)\n",
    "print(tuple + s_tuple)\n"
   ]
  },
  {
   "cell_type": "code",
   "execution_count": 15,
   "id": "a3c31c59-0874-4d5a-b6aa-96a80f52729a",
   "metadata": {},
   "outputs": [
    {
     "name": "stdout",
     "output_type": "stream",
     "text": [
      "False\n",
      "False\n",
      "False\n",
      "False\n",
      "True\n"
     ]
    }
   ],
   "source": [
    "game_1 = 2 \n",
    "game_2 = 4\n",
    "print(bool(game_1 == game_2))\n",
    "\n",
    "print (game_1 == game_2)\n",
    "\n",
    "\n",
    "val = None\n",
    "print(bool(val))\n",
    "\n",
    "num =  ()\n",
    "print(bool(num))\n",
    "\n",
    "age = True \n",
    "print(bool(age))"
   ]
  },
  {
   "cell_type": "code",
   "execution_count": 24,
   "id": "bfcfd465-7779-467f-a08d-200c24e50e8f",
   "metadata": {},
   "outputs": [
    {
     "name": "stdout",
     "output_type": "stream",
     "text": [
      "Grade = 70\n",
      "GPA = 4.9\n",
      "CGPA = 4\n"
     ]
    }
   ],
   "source": [
    "grade = int(70)\n",
    "gpa = float(4.9)\n",
    "cgpa = int(\"4\")\n",
    "\n",
    "print(f\"Grade = {grade}\")\n",
    "print(f\"GPA = {gpa}\")\n",
    "print(f\"CGPA = {cgpa}\")"
   ]
  },
  {
   "cell_type": "code",
   "execution_count": 25,
   "id": "25cdd346-d2fd-46f5-992b-c1c51e188307",
   "metadata": {},
   "outputs": [
    {
     "name": "stdout",
     "output_type": "stream",
     "text": [
      "Grade = 70.0\n",
      "GPA = 4.9\n",
      "CGPA = 4.0\n"
     ]
    }
   ],
   "source": [
    "grade = float(70)\n",
    "gpa = float(4.9)\n",
    "cgpa = float(\"4\")\n",
    "\n",
    "print(f\"Grade = {grade}\")\n",
    "print(f\"GPA = {gpa}\")\n",
    "print(f\"CGPA = {cgpa}\")"
   ]
  },
  {
   "cell_type": "code",
   "execution_count": null,
   "id": "7f6ccef2-bfc7-4182-b27c-6df25c8b5772",
   "metadata": {},
   "outputs": [],
   "source": []
  }
 ],
 "metadata": {
  "kernelspec": {
   "display_name": "Python 3 (ipykernel)",
   "language": "python",
   "name": "python3"
  },
  "language_info": {
   "codemirror_mode": {
    "name": "ipython",
    "version": 3
   },
   "file_extension": ".py",
   "mimetype": "text/x-python",
   "name": "python",
   "nbconvert_exporter": "python",
   "pygments_lexer": "ipython3",
   "version": "3.13.2"
  }
 },
 "nbformat": 4,
 "nbformat_minor": 5
}
