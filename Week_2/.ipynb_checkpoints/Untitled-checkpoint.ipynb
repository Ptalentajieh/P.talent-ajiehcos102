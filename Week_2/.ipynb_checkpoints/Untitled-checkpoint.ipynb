{
 "cells": [
  {
   "cell_type": "code",
   "execution_count": 1,
   "id": "846a786e-a1b1-43b5-81ff-2af9e0f08c68",
   "metadata": {},
   "outputs": [],
   "source": [
    "def main():\n",
    "    print(\"1:- Cubic Equation \\n2:- Quartic Equation \\n3:- Quadratic Equation\")\n",
    "    eq = int(input(\"What Equation Type Would You Like To Solve?: \"))\n",
    "\n",
    "    if eq == 1:\n",
    "        cubic()\n",
    "    elif eq == 2:\n",
    "        quartic()  \n",
    "    elif eq == 3:\n",
    "        quadratic()\n",
    "    else:\n",
    "        print(\"Invalid choice! Please enter 1, 2, or 3.\")"
   ]
  }
 ],
 "metadata": {
  "kernelspec": {
   "display_name": "Python 3 (ipykernel)",
   "language": "python",
   "name": "python3"
  },
  "language_info": {
   "codemirror_mode": {
    "name": "ipython",
    "version": 3
   },
   "file_extension": ".py",
   "mimetype": "text/x-python",
   "name": "python",
   "nbconvert_exporter": "python",
   "pygments_lexer": "ipython3",
   "version": "3.13.2"
  }
 },
 "nbformat": 4,
 "nbformat_minor": 5
}
