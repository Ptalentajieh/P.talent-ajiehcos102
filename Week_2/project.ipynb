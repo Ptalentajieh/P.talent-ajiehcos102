{
 "cells": [
  {
   "cell_type": "code",
   "execution_count": 2,
   "id": "b046c5ed",
   "metadata": {},
   "outputs": [
    {
     "name": "stdout",
     "output_type": "stream",
     "text": [
      "this program handles three different types of equations.\n",
      "1. quadratic\n",
      "2. cubic\n",
      "3. quartic\n",
      "this equation has no real roots\n"
     ]
    }
   ],
   "source": [
    "import numpy as np\n",
    "\n",
    "print('this program handles three different types of equations.')\n",
    "equations_list = ['quadratic', 'cubic', 'quartic']\n",
    "for i in range(1, 4):\n",
    "    print(str(i) + '. ' + equations_list[i - 1])\n",
    "equations = int(input(\"Choose the type of equation you want to find the roots of: \"))\n",
    "a = float(input('Enter the value of a: '))\n",
    "b = float(input('Enter the value of b: '))\n",
    "c = float(input('Enter the value of c: '))\n",
    "\n",
    "\n",
    "#finding the roots of the quadratic equation\n",
    "def quadratic(a, b, c):\n",
    "    disc = b ** 2 - (4 * a * c)\n",
    "    if disc < 0:\n",
    "        print('this equation has no real roots')\n",
    "    else: \n",
    "        root1 = ((0 - b) + (disc ** 0.5)) / (2 * a)\n",
    "        root2 = ((0 - b) - (disc ** 0.5)) / (2 * a)\n",
    "        print(f\"the roots of the equation are {root1} and {root2}\")\n",
    "    \n",
    "\n",
    "#finding the roots of the cubic equation\n",
    "def cubic(a, b, c, d):\n",
    "    variables = [a, b, c, d]\n",
    "    roots = np.roots(variables)\n",
    "    print(\"Roots of the cubic equation:\", roots)\n",
    "\n",
    "#finding the roots of the quartic equation\n",
    "def quartic(a, b, c, d, e):\n",
    "    variables = [a, b, c, d, e]\n",
    "    roots = np.roots(variables)\n",
    "    print(\"Roots of the quartic equation:\", roots)\n",
    "\n",
    "\n",
    "if equations == 1:\n",
    "    quadratic(a, b, c)\n",
    "elif equations == 2:\n",
    "    d = float(input('Enter the value of d: '))\n",
    "    cubic(a, b, c, d)\n",
    "elif equations == 3:\n",
    "    d = float(input('Enter the value of d: '))\n",
    "    e = float(input('Enter the value of e: '))\n",
    "    quartic(a, b, c, d, e)\n"
   ]
  },
  {
   "cell_type": "code",
   "execution_count": null,
   "id": "5ad83f5d",
   "metadata": {},
   "outputs": [],
   "source": [
    "1\n",
    "1"
   ]
  }
 ],
 "metadata": {
  "kernelspec": {
   "display_name": "Python 3",
   "language": "python",
   "name": "python3"
  },
  "language_info": {
   "codemirror_mode": {
    "name": "ipython",
    "version": 3
   },
   "file_extension": ".py",
   "mimetype": "text/x-python",
   "name": "python",
   "nbconvert_exporter": "python",
   "pygments_lexer": "ipython3",
   "version": "3.13.3"
  }
 },
 "nbformat": 4,
 "nbformat_minor": 5
}
