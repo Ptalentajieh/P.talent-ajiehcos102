{
 "cells": [
  {
   "cell_type": "code",
   "execution_count": 3,
   "id": "13f92c3a",
   "metadata": {},
   "outputs": [],
   "source": [
    "import tkinter as tk\n",
    "import tkinter.messagebox as msgbox\n",
    "\n",
    "def button_click():\n",
    "    msgbox.showinfo(\"Info\", \"Welcome to COS 102 GUI App\\n\")\n",
    "    #Ask for user confirmation\n",
    "    result = msgbox.askyesno(\"Confirmation\", \"Do you want to continue?\")\n",
    "\n",
    "#Create main window\n",
    "root = tk.Tk()\n",
    "root.title(\"Home Page\")\n",
    "root.geometry(\"300x100\")  \n",
    "\n",
    "#Add a label widget \n",
    "label = tk.Label(root, text=\"Hello friend \\n\")\n",
    "label.pack()\n",
    "\n",
    "# Add a button widget\n",
    "button = tk.Button(root, text=\"Click Me\", command=button_click)\n",
    "button.pack()\n",
    "\n",
    "#Styling the buttton Widget\n",
    "button.config(fg = \"red\",bg = \"yellow\")\n",
    "\n",
    "# Start the event loop\n",
    "root.mainloop()\n"
   ]
  }
 ],
 "metadata": {
  "kernelspec": {
   "display_name": ".venv",
   "language": "python",
   "name": "python3"
  },
  "language_info": {
   "codemirror_mode": {
    "name": "ipython",
    "version": 3
   },
   "file_extension": ".py",
   "mimetype": "text/x-python",
   "name": "python",
   "nbconvert_exporter": "python",
   "pygments_lexer": "ipython3",
   "version": "3.13.2"
  }
 },
 "nbformat": 4,
 "nbformat_minor": 5
}
