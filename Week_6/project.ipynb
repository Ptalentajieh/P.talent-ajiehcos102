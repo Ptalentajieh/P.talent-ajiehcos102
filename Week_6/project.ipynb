{
 "cells": [
  {
   "cell_type": "code",
   "execution_count": null,
   "id": "f7afb7da",
   "metadata": {},
   "outputs": [
    {
     "name": "stderr",
     "output_type": "stream",
     "text": [
      "Exception in Tkinter callback\n",
      "Traceback (most recent call last):\n",
      "  File \"C:\\Users\\Talent.P\\AppData\\Local\\Programs\\Python\\Python313\\Lib\\tkinter\\__init__.py\", line 2068, in __call__\n",
      "    return self.func(*args)\n",
      "           ~~~~~~~~~^^^^^^^\n",
      "  File \"C:\\Users\\Talent.P\\AppData\\Local\\Temp\\ipykernel_16944\\187309900.py\", line 24, in alpha\n",
      "    message = f\"You Are To Pay A Delivery Fee of N{price:,.0f}\"\n",
      "                                                  ^^^^^^^^^^^^\n",
      "TypeError: unsupported format string passed to tuple.__format__\n",
      "Exception in Tkinter callback\n",
      "Traceback (most recent call last):\n",
      "  File \"C:\\Users\\Talent.P\\AppData\\Local\\Programs\\Python\\Python313\\Lib\\tkinter\\__init__.py\", line 2068, in __call__\n",
      "    return self.func(*args)\n",
      "           ~~~~~~~~~^^^^^^^\n",
      "  File \"C:\\Users\\Talent.P\\AppData\\Local\\Temp\\ipykernel_16944\\187309900.py\", line 24, in alpha\n",
      "    message = f\"You Are To Pay A Delivery Fee of N{price:,.0f}\"\n",
      "                                                  ^^^^^^^^^^^^\n",
      "TypeError: unsupported format string passed to tuple.__format__\n"
     ]
    }
   ],
   "source": [
    "import tkinter as tk\n",
    "from tkinter import messagebox\n",
    "\n",
    "locs = [\"ibeju-lekki\",\"epe\"]\n",
    "\n",
    "def alpha():\n",
    "    ui = entry.get().strip().lower()\n",
    "    um = float(entrym.get().strip())\n",
    "\n",
    "    if ui not in locs:\n",
    "        message = f\"Delivery To {ui} Isn't Available\"\n",
    "        messagebox.showinfo(\"Confirmation\",message)\n",
    "\n",
    "    else:\n",
    "        if ui == locs[1] and um >= 10:\n",
    "            price = 5,000\n",
    "        elif ui == locs[1] and um < 10:\n",
    "            price = 3500\n",
    "        elif ui == locs[2] and um >= 10:\n",
    "            price = 10000\n",
    "        elif ui == locs[2] and um < 10:\n",
    "            price = 5000\n",
    "\n",
    "        message = f\"You Are To Pay A Delivery Fee of N{price}\"\n",
    "        messagebox.showinfo(\"Confirmation\",message)\n",
    "    \n",
    "\n",
    "\n",
    "\n",
    "root = tk.Tk()\n",
    "root.title(\"Welcome To Simi Services Homepage\")\n",
    "root.geometry(\"800x500\")  \n",
    " \n",
    "\n",
    "label = tk.Label(root, text=\"Enter Your Delivery Location\")\n",
    "label.pack()\n",
    "entry = tk.Entry(root)\n",
    "entry.pack()\n",
    "\n",
    "labelm = tk.Label(root, text=\"The Item's Total Mass For Delivery\")\n",
    "labelm.pack()\n",
    "entrym = tk.Entry(root)\n",
    "entrym.pack()\n",
    "\n",
    "# Submit button\n",
    "submit_button = tk.Button(root, text=\"Submit\", command=alpha)\n",
    "submit_button.pack()\n",
    "\n",
    "\n",
    "root.mainloop()\n"
   ]
  }
 ],
 "metadata": {
  "kernelspec": {
   "display_name": ".venv",
   "language": "python",
   "name": "python3"
  },
  "language_info": {
   "codemirror_mode": {
    "name": "ipython",
    "version": 3
   },
   "file_extension": ".py",
   "mimetype": "text/x-python",
   "name": "python",
   "nbconvert_exporter": "python",
   "pygments_lexer": "ipython3",
   "version": "3.13.2"
  }
 },
 "nbformat": 4,
 "nbformat_minor": 5
}
