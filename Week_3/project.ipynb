{
 "cells": [
  {
   "cell_type": "code",
   "execution_count": 5,
   "id": "855d60a5-26b0-490a-91de-cbb3771243c0",
   "metadata": {},
   "outputs": [
    {
     "name": "stdout",
     "output_type": "stream",
     "text": [
      "(Evelyn|80|5.5|80)\n",
      "(Jessica|85|6.0|85)\n",
      "(Somto|70|5.4|70)\n",
      "(Edith|60|5.9|60)\n",
      "(Liza|76|5.6|76)\n",
      "(Madonna|66|5.5|66)\n",
      "(Waje|87|6.1|87)\n",
      "(Tola|95|6.0|95)\n",
      "(Aisha|50|5.7|50)\n",
      "(Latifa|49|5.5|49)\n"
     ]
    }
   ],
   "source": [
    "#gn == Female  names\n",
    "#bn == Male names \n",
    "gn = [\"Evelyn\",\"Jessica\",\"Somto\",\"Edith\",\"Liza\",\"Madonna\",\"Waje\",\"Tola\",\"Aisha\",\"Latifa\"]\n",
    "bn = [\"Chinedu\",\"liam\",\"Wale\",\"Gbenga\",\"Abiola\",\"Kola\",\"Kunle\",\"George\",\"Thomas\",\"Wesley\"]\n",
    "\n",
    "#ga == Age of Females\n",
    "#ba == Age of Males\n",
    "ga = [17,16,17,18,16,18,17,20,19,17]\n",
    "ba = [19,16,18,17,20,19,16,18,17,19]\n",
    "\n",
    "#gh == Height of Female\n",
    "#bh == Height of Male\n",
    "gh = [5.5,6.0,5.4,5.9,5.6,5.5,6.1,6.0,5.7,5.5]\n",
    "bh = [5.7,5.9,5.8,6.1,5.9,5.5,6.1,5.4,5.8,5.7]\n",
    "\n",
    "#gs == Scores of Females\n",
    "#bs == Scores of Male\n",
    "gs = [80,85,70,60,76,66,87,95,50,49]\n",
    "bs = [74,87,75,68,66,78,87,98,54,60]\n",
    "\n",
    "print (f\"({gn[0]}|{gs[0]}|{gh[0]}|{gs[0]})\")\n",
    "print (f\"({gn[1]}|{gs[1]}|{gh[1]}|{gs[1]})\")\n",
    "print (f\"({gn[2]}|{gs[2]}|{gh[2]}|{gs[2]})\")\n",
    "print (f\"({gn[3]}|{gs[3]}|{gh[3]}|{gs[3]})\")\n",
    "print (f\"({gn[4]}|{gs[4]}|{gh[4]}|{gs[4]})\")\n",
    "print (f\"({gn[5]}|{gs[5]}|{gh[5]}|{gs[5]})\")\n",
    "print (f\"({gn[6]}|{gs[6]}|{gh[6]}|{gs[6]})\")\n",
    "print (f\"({gn[7]}|{gs[7]}|{gh[7]}|{gs[7]})\")\n",
    "print (f\"({gn[8]}|{gs[8]}|{gh[8]}|{gs[8]})\")\n",
    "print (f\"({gn[9]}|{gs[9]}|{gh[9]}|{gs[9]})\")"
   ]
  },
  {
   "cell_type": "code",
   "execution_count": null,
   "id": "a7e2e5dd-cf68-4535-a7f1-d45f4c5e62e2",
   "metadata": {},
   "outputs": [
    {
     "name": "stdout",
     "output_type": "stream",
     "text": [
      "Enter your current age:  55\n",
      "Enter your years of experience:  26\n"
     ]
    },
    {
     "name": "stdout",
     "output_type": "stream",
     "text": [
      "Your Annual Tax Revenue (ATR) is N5,600,000\n"
     ]
    }
   ],
   "source": [
    "age = int(input(\"Enter your current age: \"))\n",
    "exp = int(input(\"Enter your years of experience: \"))\n",
    "\n",
    "if age >= 55 and exp > 25:\n",
    "    print(\"Your Annual Tax Revenue (ATR) is N5,600,000\" )\n",
    "elif exp > 20 and age>= 45:\n",
    "    print(\"Your Annual Tax Revenue (ATR) is N4,480,000\" )\n",
    "elif exp > 10 and age >= 35:\n",
    "    print(\"Your Annual Tax Revenue (ATR) is N1,500,000\" )\n",
    "elif exp < 10 and age < 35:\n",
    "    print(\"Your Annual Tax Revenue (ATR) is N550,000\" )\n",
    "else: \n",
    "    print(\"you do not qualify for any of the ATR\")\n",
    "\n",
    "    \n",
    "\n",
    "    "
   ]
  },
  {
   "cell_type": "code",
   "execution_count": null,
   "id": "105589dd-2815-49e1-bc04-87da71c9d3e9",
   "metadata": {},
   "outputs": [],
   "source": []
  }
 ],
 "metadata": {
  "kernelspec": {
   "display_name": "Python 3 (ipykernel)",
   "language": "python",
   "name": "python3"
  },
  "language_info": {
   "codemirror_mode": {
    "name": "ipython",
    "version": 3
   },
   "file_extension": ".py",
   "mimetype": "text/x-python",
   "name": "python",
   "nbconvert_exporter": "python",
   "pygments_lexer": "ipython3",
   "version": "3.13.2"
  }
 },
 "nbformat": 4,
 "nbformat_minor": 5
}
