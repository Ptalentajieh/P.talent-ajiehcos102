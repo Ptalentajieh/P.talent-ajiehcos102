{
 "cells": [
  {
   "cell_type": "code",
   "execution_count": 3,
   "id": "4c0910de-830e-42cb-bb44-ca916fae8fd3",
   "metadata": {},
   "outputs": [
    {
     "name": "stdin",
     "output_type": "stream",
     "text": [
      "Enter name of City 1:  Alpha\n",
      "Enter name of City 2:  Dome\n"
     ]
    },
    {
     "name": "stdout",
     "output_type": "stream",
     "text": [
      "The name of City 1 after swapping is Dome\n",
      "The name of City 2 after swapping is Alpha\n"
     ]
    }
   ],
   "source": [
    "city_1 = input('Enter name of City 1: ')\n",
    "city_2 = input('Enter name of City 2: ')\n",
    "\n",
    "temp = city_1\n",
    "city_1 = city_2\n",
    "city_2 = temp\n",
    "\n",
    "print(f\"The name of City 1 after swapping is {city_1}\")\n",
    "print(f\"The name of City 2 after swapping is {city_2}\")"
   ]
  },
  {
   "cell_type": "code",
   "execution_count": 1,
   "id": "eac9e7a2-8a04-44a0-8eb9-434812b79e9b",
   "metadata": {},
   "outputs": [
    {
     "name": "stdin",
     "output_type": "stream",
     "text": [
      "Enter a number 33\n"
     ]
    },
    {
     "name": "stdout",
     "output_type": "stream",
     "text": [
      "Positive number\n"
     ]
    }
   ],
   "source": [
    "num = float(input(\"Enter a number\"))\n",
    "if num > 0:\n",
    "    print(\"Positive number\")\n",
    "elif num == 0:\n",
    "    print(\"Zero\")\n",
    "else:\n",
    "    print(\"Negative number\")"
   ]
  },
  {
   "cell_type": "code",
   "execution_count": 6,
   "id": "556d07f2-1fb0-4015-8679-c9e280a6f5d6",
   "metadata": {},
   "outputs": [
    {
     "name": "stdout",
     "output_type": "stream",
     "text": [
      "Welcome to the COUPE DE ESCRIVA 2023: FOOTBALL PICKS \n",
      "\n",
      "Madiba:  Chubby Obiora-okafo\n",
      "Blue-Jays:  Christopher Uweh\n",
      "Cirok: Alexander\n",
      "TSG Walkers: Ikechukwu\n",
      "\n",
      "\n",
      "Madiba:  Chubby Obiora-okafo\n",
      "Blue-Jays:  Oladimeji Abaniwondea/Jeffery Awagu\n",
      "Cirok:  Timileyin Pearse/izuako Jeremy\n",
      "TSG Walkers: Ayomide ojituku\n"
     ]
    }
   ],
   "source": [
    "print(\"Welcome to the COUPE DE ESCRIVA 2023: FOOTBALL PICKS \\n\")\n",
    "captain = {'Madiba: ': 'Chubby Obiora-okafo','Blue-Jays: ': 'Christopher Uweh',\n",
    "           'Cirok:': 'Alexander', 'TSG Walkers:' : 'Ikechukwu'}\n",
    "goalkeepers = {'Madiba: ': 'Chubby Obiora-okafo',\n",
    "              'Blue-Jays: ': 'Oladimeji Abaniwondea/Jeffery Awagu',\n",
    "               'Cirok: ': 'Timileyin Pearse/izuako Jeremy',              \n",
    "              'TSG Walkers:' : \"Ayomide ojituku\" }\n",
    "\n",
    "for  pick in captain:\n",
    "    print(pick, captain[pick])\n",
    "\n",
    "print(\"\\n\")\n",
    "\n",
    "for pick in goalkeepers:\n",
    "    print(pick, goalkeepers[pick])"
   ]
  },
  {
   "cell_type": "code",
   "execution_count": null,
   "id": "7f91d58d-223d-43c5-b3ac-559c9ee962b6",
   "metadata": {},
   "outputs": [],
   "source": []
  }
 ],
 "metadata": {
  "kernelspec": {
   "display_name": "Python 3 (ipykernel)",
   "language": "python",
   "name": "python3"
  },
  "language_info": {
   "codemirror_mode": {
    "name": "ipython",
    "version": 3
   },
   "file_extension": ".py",
   "mimetype": "text/x-python",
   "name": "python",
   "nbconvert_exporter": "python",
   "pygments_lexer": "ipython3",
   "version": "3.13.2"
  }
 },
 "nbformat": 4,
 "nbformat_minor": 5
}
