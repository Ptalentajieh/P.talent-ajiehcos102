{
 "cells": [
  {
   "cell_type": "code",
   "execution_count": 3,
   "id": "b24ecf65-9405-4855-9427-d1201991ffa0",
   "metadata": {},
   "outputs": [
    {
     "name": "stdout",
     "output_type": "stream",
     "text": [
      "[2, 27, 23]\n"
     ]
    }
   ],
   "source": [
    "mixed_list = ['Alpha',2,27,23]\n",
    "mixed_list.pop(0)\n",
    "print (mixed_list)\n"
   ]
  },
  {
   "cell_type": "code",
   "execution_count": null,
   "id": "028d7c16-5144-42ca-8710-bf56d1241316",
   "metadata": {},
   "outputs": [],
   "source": []
  },
  {
   "cell_type": "code",
   "execution_count": null,
   "id": "5e6c219c-48e7-4424-b684-ccb54a692d76",
   "metadata": {},
   "outputs": [],
   "source": []
  }
 ],
 "metadata": {
  "kernelspec": {
   "display_name": "Python 3 (ipykernel)",
   "language": "python",
   "name": "python3"
  },
  "language_info": {
   "codemirror_mode": {
    "name": "ipython",
    "version": 3
   },
   "file_extension": ".py",
   "mimetype": "text/x-python",
   "name": "python",
   "nbconvert_exporter": "python",
   "pygments_lexer": "ipython3",
   "version": "3.13.2"
  }
 },
 "nbformat": 4,
 "nbformat_minor": 5
}
